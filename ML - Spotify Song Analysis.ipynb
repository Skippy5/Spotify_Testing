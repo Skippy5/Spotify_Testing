{
 "cells": [
  {
   "cell_type": "markdown",
   "metadata": {},
   "source": [
    "# KNN Analysis of Spotify Music Features"
   ]
  },
  {
   "cell_type": "code",
   "execution_count": 1,
   "metadata": {},
   "outputs": [],
   "source": [
    "# Dependencies\n",
    "import numpy as np\n",
    "import pandas as pd\n",
    "import math\n",
    "import matplotlib.pyplot as plt\n",
    "\n",
    "from sklearn.model_selection import train_test_split\n",
    "from sklearn.preprocessing import StandardScaler\n",
    "from sklearn.neighbors import KNeighborsClassifier\n",
    "from sklearn.metrics import confusion_matrix\n",
    "from sklearn.metrics import f1_score\n",
    "from sklearn.metrics import accuracy_score\n",
    "from sklearn import preprocessing\n",
    "from sklearn import utils"
   ]
  },
  {
   "cell_type": "markdown",
   "metadata": {},
   "source": [
    "## Import Data for use in analysis"
   ]
  },
  {
   "cell_type": "code",
   "execution_count": 2,
   "metadata": {},
   "outputs": [
    {
     "name": "stdout",
     "output_type": "stream",
     "text": [
      "176774\n"
     ]
    }
   ],
   "source": [
    "# Store filepath in a variable\n",
    "SpotifyFeatures_file = \"spotifyfixed.csv\"\n",
    "SpotifyFeatures_df = pd.read_csv(SpotifyFeatures_file, encoding=\"ISO-8859-1\")\n",
    "print(len(SpotifyFeatures_df))"
   ]
  },
  {
   "cell_type": "code",
   "execution_count": 3,
   "metadata": {},
   "outputs": [
    {
     "data": {
      "text/html": [
       "<div>\n",
       "<style scoped>\n",
       "    .dataframe tbody tr th:only-of-type {\n",
       "        vertical-align: middle;\n",
       "    }\n",
       "\n",
       "    .dataframe tbody tr th {\n",
       "        vertical-align: top;\n",
       "    }\n",
       "\n",
       "    .dataframe thead th {\n",
       "        text-align: right;\n",
       "    }\n",
       "</style>\n",
       "<table border=\"1\" class=\"dataframe\">\n",
       "  <thead>\n",
       "    <tr style=\"text-align: right;\">\n",
       "      <th></th>\n",
       "      <th>Unnamed: 0</th>\n",
       "      <th>Unnamed: 0.1</th>\n",
       "      <th>genre</th>\n",
       "      <th>artist</th>\n",
       "      <th>track</th>\n",
       "      <th>track_id</th>\n",
       "      <th>popularity</th>\n",
       "      <th>acousticness</th>\n",
       "      <th>danceability</th>\n",
       "      <th>duration_ms</th>\n",
       "      <th>...</th>\n",
       "      <th>instrumentalness</th>\n",
       "      <th>key</th>\n",
       "      <th>liveness</th>\n",
       "      <th>loudness</th>\n",
       "      <th>mode</th>\n",
       "      <th>speechiness</th>\n",
       "      <th>tempo</th>\n",
       "      <th>time_signature</th>\n",
       "      <th>valence</th>\n",
       "      <th>date</th>\n",
       "    </tr>\n",
       "  </thead>\n",
       "  <tbody>\n",
       "    <tr>\n",
       "      <th>0</th>\n",
       "      <td>0</td>\n",
       "      <td>0</td>\n",
       "      <td>Movie</td>\n",
       "      <td>Henri Salvador</td>\n",
       "      <td>C'est beau de faire un Show</td>\n",
       "      <td>0BRjO6ga9RKCKjfDqeFgWV</td>\n",
       "      <td>0</td>\n",
       "      <td>0.611</td>\n",
       "      <td>0.389</td>\n",
       "      <td>99373</td>\n",
       "      <td>...</td>\n",
       "      <td>0.000</td>\n",
       "      <td>C#</td>\n",
       "      <td>0.3460</td>\n",
       "      <td>-1.828</td>\n",
       "      <td>Major</td>\n",
       "      <td>0.0525</td>\n",
       "      <td>166.969</td>\n",
       "      <td>4/4</td>\n",
       "      <td>0.814</td>\n",
       "      <td>2009-04-06</td>\n",
       "    </tr>\n",
       "    <tr>\n",
       "      <th>1</th>\n",
       "      <td>1</td>\n",
       "      <td>1</td>\n",
       "      <td>Movie</td>\n",
       "      <td>Martin &amp; les fÃ©es</td>\n",
       "      <td>Perdu d'avance (par Gad Elmaleh)</td>\n",
       "      <td>0BjC1NfoEOOusryehmNudP</td>\n",
       "      <td>1</td>\n",
       "      <td>0.246</td>\n",
       "      <td>0.590</td>\n",
       "      <td>137373</td>\n",
       "      <td>...</td>\n",
       "      <td>0.000</td>\n",
       "      <td>F#</td>\n",
       "      <td>0.1510</td>\n",
       "      <td>-5.559</td>\n",
       "      <td>Minor</td>\n",
       "      <td>0.0868</td>\n",
       "      <td>174.003</td>\n",
       "      <td>4/4</td>\n",
       "      <td>0.816</td>\n",
       "      <td>2015-10-27</td>\n",
       "    </tr>\n",
       "    <tr>\n",
       "      <th>2</th>\n",
       "      <td>2</td>\n",
       "      <td>2</td>\n",
       "      <td>Movie</td>\n",
       "      <td>Joseph Williams</td>\n",
       "      <td>Don't Let Me Be Lonely Tonight</td>\n",
       "      <td>0CoSDzoNIKCRs124s9uTVy</td>\n",
       "      <td>3</td>\n",
       "      <td>0.952</td>\n",
       "      <td>0.663</td>\n",
       "      <td>170267</td>\n",
       "      <td>...</td>\n",
       "      <td>0.000</td>\n",
       "      <td>C</td>\n",
       "      <td>0.1030</td>\n",
       "      <td>-13.879</td>\n",
       "      <td>Minor</td>\n",
       "      <td>0.0362</td>\n",
       "      <td>99.488</td>\n",
       "      <td>5/4</td>\n",
       "      <td>0.368</td>\n",
       "      <td>2008-02-05</td>\n",
       "    </tr>\n",
       "    <tr>\n",
       "      <th>3</th>\n",
       "      <td>3</td>\n",
       "      <td>3</td>\n",
       "      <td>Movie</td>\n",
       "      <td>Henri Salvador</td>\n",
       "      <td>Dis-moi Monsieur Gordon Cooper</td>\n",
       "      <td>0Gc6TVm52BwZD07Ki6tIvf</td>\n",
       "      <td>0</td>\n",
       "      <td>0.703</td>\n",
       "      <td>0.240</td>\n",
       "      <td>152427</td>\n",
       "      <td>...</td>\n",
       "      <td>0.000</td>\n",
       "      <td>C#</td>\n",
       "      <td>0.0985</td>\n",
       "      <td>-12.178</td>\n",
       "      <td>Major</td>\n",
       "      <td>0.0395</td>\n",
       "      <td>171.758</td>\n",
       "      <td>4/4</td>\n",
       "      <td>0.227</td>\n",
       "      <td>1998</td>\n",
       "    </tr>\n",
       "    <tr>\n",
       "      <th>4</th>\n",
       "      <td>4</td>\n",
       "      <td>4</td>\n",
       "      <td>Movie</td>\n",
       "      <td>Fabien Nataf</td>\n",
       "      <td>Ouverture</td>\n",
       "      <td>0IuslXpMROHdEPvSl1fTQK</td>\n",
       "      <td>4</td>\n",
       "      <td>0.950</td>\n",
       "      <td>0.331</td>\n",
       "      <td>82625</td>\n",
       "      <td>...</td>\n",
       "      <td>0.123</td>\n",
       "      <td>F</td>\n",
       "      <td>0.2020</td>\n",
       "      <td>-21.150</td>\n",
       "      <td>Major</td>\n",
       "      <td>0.0456</td>\n",
       "      <td>140.576</td>\n",
       "      <td>4/4</td>\n",
       "      <td>0.390</td>\n",
       "      <td>2017-01-06</td>\n",
       "    </tr>\n",
       "  </tbody>\n",
       "</table>\n",
       "<p>5 rows × 21 columns</p>\n",
       "</div>"
      ],
      "text/plain": [
       "   Unnamed: 0  Unnamed: 0.1  genre              artist  \\\n",
       "0           0             0  Movie      Henri Salvador   \n",
       "1           1             1  Movie  Martin & les fÃ©es   \n",
       "2           2             2  Movie     Joseph Williams   \n",
       "3           3             3  Movie      Henri Salvador   \n",
       "4           4             4  Movie        Fabien Nataf   \n",
       "\n",
       "                              track                track_id  popularity  \\\n",
       "0       C'est beau de faire un Show  0BRjO6ga9RKCKjfDqeFgWV           0   \n",
       "1  Perdu d'avance (par Gad Elmaleh)  0BjC1NfoEOOusryehmNudP           1   \n",
       "2    Don't Let Me Be Lonely Tonight  0CoSDzoNIKCRs124s9uTVy           3   \n",
       "3    Dis-moi Monsieur Gordon Cooper  0Gc6TVm52BwZD07Ki6tIvf           0   \n",
       "4                         Ouverture  0IuslXpMROHdEPvSl1fTQK           4   \n",
       "\n",
       "   acousticness  danceability  duration_ms  ...  instrumentalness  key  \\\n",
       "0         0.611         0.389        99373  ...             0.000   C#   \n",
       "1         0.246         0.590       137373  ...             0.000   F#   \n",
       "2         0.952         0.663       170267  ...             0.000    C   \n",
       "3         0.703         0.240       152427  ...             0.000   C#   \n",
       "4         0.950         0.331        82625  ...             0.123    F   \n",
       "\n",
       "  liveness  loudness   mode speechiness    tempo  time_signature valence  \\\n",
       "0   0.3460    -1.828  Major      0.0525  166.969             4/4   0.814   \n",
       "1   0.1510    -5.559  Minor      0.0868  174.003             4/4   0.816   \n",
       "2   0.1030   -13.879  Minor      0.0362   99.488             5/4   0.368   \n",
       "3   0.0985   -12.178  Major      0.0395  171.758             4/4   0.227   \n",
       "4   0.2020   -21.150  Major      0.0456  140.576             4/4   0.390   \n",
       "\n",
       "         date  \n",
       "0  2009-04-06  \n",
       "1  2015-10-27  \n",
       "2  2008-02-05  \n",
       "3        1998  \n",
       "4  2017-01-06  \n",
       "\n",
       "[5 rows x 21 columns]"
      ]
     },
     "execution_count": 3,
     "metadata": {},
     "output_type": "execute_result"
    }
   ],
   "source": [
    "# Show just the header\n",
    "SpotifyFeatures_df.head()"
   ]
  },
  {
   "cell_type": "code",
   "execution_count": 4,
   "metadata": {},
   "outputs": [],
   "source": [
    "#Added as Genre column was renaming to a weird name\n",
    "#SpotifyFeatures_df.rename(columns={ SpotifyFeatures_df.columns[0]: \"genre\" }, inplace = True)\n",
    "#SpotifyFeatures_df.head()\n",
    "SpotifyFeatures_df = SpotifyFeatures_df.drop(['Unnamed: 0', 'Unnamed: 0.1'], axis=1)"
   ]
  },
  {
   "cell_type": "code",
   "execution_count": 5,
   "metadata": {},
   "outputs": [
    {
     "data": {
      "text/plain": [
       "array(['Movie', 'R&B', 'A Capella', 'Alternative', 'Country', 'Dance',\n",
       "       'Electronic', 'Anime', 'Folk', 'Blues', 'Opera', 'Hip-Hop',\n",
       "       \"Children's Music\", 'Rap', 'Indie', 'Classical', 'Pop', 'Reggae',\n",
       "       'Reggaeton', 'Jazz', 'Rock', 'Ska', 'Comedy', 'Soul', 'Soundtrack',\n",
       "       'World'], dtype=object)"
      ]
     },
     "execution_count": 5,
     "metadata": {},
     "output_type": "execute_result"
    }
   ],
   "source": [
    "SpotifyFeatures_df.genre.unique()"
   ]
  },
  {
   "cell_type": "code",
   "execution_count": 6,
   "metadata": {},
   "outputs": [],
   "source": [
    "# Replace Zeros \n",
    "zero_not_accepted = ['danceability','energy','key','mode','tempo']\n",
    "\n",
    "for column in zero_not_accepted:\n",
    "    SpotifyFeatures_df[column] = SpotifyFeatures_df[column].replace(0, np.NaN)"
   ]
  },
  {
   "cell_type": "code",
   "execution_count": 7,
   "metadata": {},
   "outputs": [
    {
     "data": {
      "text/html": [
       "<div>\n",
       "<style scoped>\n",
       "    .dataframe tbody tr th:only-of-type {\n",
       "        vertical-align: middle;\n",
       "    }\n",
       "\n",
       "    .dataframe tbody tr th {\n",
       "        vertical-align: top;\n",
       "    }\n",
       "\n",
       "    .dataframe thead th {\n",
       "        text-align: right;\n",
       "    }\n",
       "</style>\n",
       "<table border=\"1\" class=\"dataframe\">\n",
       "  <thead>\n",
       "    <tr style=\"text-align: right;\">\n",
       "      <th></th>\n",
       "      <th>genre</th>\n",
       "      <th>artist</th>\n",
       "      <th>track</th>\n",
       "      <th>track_id</th>\n",
       "      <th>popularity</th>\n",
       "      <th>acousticness</th>\n",
       "      <th>danceability</th>\n",
       "      <th>duration_ms</th>\n",
       "      <th>energy</th>\n",
       "      <th>instrumentalness</th>\n",
       "      <th>key</th>\n",
       "      <th>liveness</th>\n",
       "      <th>loudness</th>\n",
       "      <th>mode</th>\n",
       "      <th>speechiness</th>\n",
       "      <th>tempo</th>\n",
       "      <th>time_signature</th>\n",
       "      <th>valence</th>\n",
       "      <th>date</th>\n",
       "    </tr>\n",
       "  </thead>\n",
       "  <tbody>\n",
       "    <tr>\n",
       "      <th>0</th>\n",
       "      <td>Movie</td>\n",
       "      <td>Henri Salvador</td>\n",
       "      <td>C'est beau de faire un Show</td>\n",
       "      <td>0BRjO6ga9RKCKjfDqeFgWV</td>\n",
       "      <td>0</td>\n",
       "      <td>0.611</td>\n",
       "      <td>0.389</td>\n",
       "      <td>99373</td>\n",
       "      <td>0.910</td>\n",
       "      <td>0.000</td>\n",
       "      <td>C#</td>\n",
       "      <td>0.3460</td>\n",
       "      <td>-1.828</td>\n",
       "      <td>Major</td>\n",
       "      <td>0.0525</td>\n",
       "      <td>166.969</td>\n",
       "      <td>4/4</td>\n",
       "      <td>0.814</td>\n",
       "      <td>2009-04-06</td>\n",
       "    </tr>\n",
       "    <tr>\n",
       "      <th>1</th>\n",
       "      <td>Movie</td>\n",
       "      <td>Martin &amp; les fÃ©es</td>\n",
       "      <td>Perdu d'avance (par Gad Elmaleh)</td>\n",
       "      <td>0BjC1NfoEOOusryehmNudP</td>\n",
       "      <td>1</td>\n",
       "      <td>0.246</td>\n",
       "      <td>0.590</td>\n",
       "      <td>137373</td>\n",
       "      <td>0.737</td>\n",
       "      <td>0.000</td>\n",
       "      <td>F#</td>\n",
       "      <td>0.1510</td>\n",
       "      <td>-5.559</td>\n",
       "      <td>Minor</td>\n",
       "      <td>0.0868</td>\n",
       "      <td>174.003</td>\n",
       "      <td>4/4</td>\n",
       "      <td>0.816</td>\n",
       "      <td>2015-10-27</td>\n",
       "    </tr>\n",
       "    <tr>\n",
       "      <th>2</th>\n",
       "      <td>Movie</td>\n",
       "      <td>Joseph Williams</td>\n",
       "      <td>Don't Let Me Be Lonely Tonight</td>\n",
       "      <td>0CoSDzoNIKCRs124s9uTVy</td>\n",
       "      <td>3</td>\n",
       "      <td>0.952</td>\n",
       "      <td>0.663</td>\n",
       "      <td>170267</td>\n",
       "      <td>0.131</td>\n",
       "      <td>0.000</td>\n",
       "      <td>C</td>\n",
       "      <td>0.1030</td>\n",
       "      <td>-13.879</td>\n",
       "      <td>Minor</td>\n",
       "      <td>0.0362</td>\n",
       "      <td>99.488</td>\n",
       "      <td>5/4</td>\n",
       "      <td>0.368</td>\n",
       "      <td>2008-02-05</td>\n",
       "    </tr>\n",
       "    <tr>\n",
       "      <th>3</th>\n",
       "      <td>Movie</td>\n",
       "      <td>Henri Salvador</td>\n",
       "      <td>Dis-moi Monsieur Gordon Cooper</td>\n",
       "      <td>0Gc6TVm52BwZD07Ki6tIvf</td>\n",
       "      <td>0</td>\n",
       "      <td>0.703</td>\n",
       "      <td>0.240</td>\n",
       "      <td>152427</td>\n",
       "      <td>0.326</td>\n",
       "      <td>0.000</td>\n",
       "      <td>C#</td>\n",
       "      <td>0.0985</td>\n",
       "      <td>-12.178</td>\n",
       "      <td>Major</td>\n",
       "      <td>0.0395</td>\n",
       "      <td>171.758</td>\n",
       "      <td>4/4</td>\n",
       "      <td>0.227</td>\n",
       "      <td>1998</td>\n",
       "    </tr>\n",
       "    <tr>\n",
       "      <th>4</th>\n",
       "      <td>Movie</td>\n",
       "      <td>Fabien Nataf</td>\n",
       "      <td>Ouverture</td>\n",
       "      <td>0IuslXpMROHdEPvSl1fTQK</td>\n",
       "      <td>4</td>\n",
       "      <td>0.950</td>\n",
       "      <td>0.331</td>\n",
       "      <td>82625</td>\n",
       "      <td>0.225</td>\n",
       "      <td>0.123</td>\n",
       "      <td>F</td>\n",
       "      <td>0.2020</td>\n",
       "      <td>-21.150</td>\n",
       "      <td>Major</td>\n",
       "      <td>0.0456</td>\n",
       "      <td>140.576</td>\n",
       "      <td>4/4</td>\n",
       "      <td>0.390</td>\n",
       "      <td>2017-01-06</td>\n",
       "    </tr>\n",
       "  </tbody>\n",
       "</table>\n",
       "</div>"
      ],
      "text/plain": [
       "   genre              artist                             track  \\\n",
       "0  Movie      Henri Salvador       C'est beau de faire un Show   \n",
       "1  Movie  Martin & les fÃ©es  Perdu d'avance (par Gad Elmaleh)   \n",
       "2  Movie     Joseph Williams    Don't Let Me Be Lonely Tonight   \n",
       "3  Movie      Henri Salvador    Dis-moi Monsieur Gordon Cooper   \n",
       "4  Movie        Fabien Nataf                         Ouverture   \n",
       "\n",
       "                 track_id  popularity  acousticness  danceability  \\\n",
       "0  0BRjO6ga9RKCKjfDqeFgWV           0         0.611         0.389   \n",
       "1  0BjC1NfoEOOusryehmNudP           1         0.246         0.590   \n",
       "2  0CoSDzoNIKCRs124s9uTVy           3         0.952         0.663   \n",
       "3  0Gc6TVm52BwZD07Ki6tIvf           0         0.703         0.240   \n",
       "4  0IuslXpMROHdEPvSl1fTQK           4         0.950         0.331   \n",
       "\n",
       "   duration_ms  energy  instrumentalness key  liveness  loudness   mode  \\\n",
       "0        99373   0.910             0.000  C#    0.3460    -1.828  Major   \n",
       "1       137373   0.737             0.000  F#    0.1510    -5.559  Minor   \n",
       "2       170267   0.131             0.000   C    0.1030   -13.879  Minor   \n",
       "3       152427   0.326             0.000  C#    0.0985   -12.178  Major   \n",
       "4        82625   0.225             0.123   F    0.2020   -21.150  Major   \n",
       "\n",
       "   speechiness    tempo time_signature  valence        date  \n",
       "0       0.0525  166.969            4/4    0.814  2009-04-06  \n",
       "1       0.0868  174.003            4/4    0.816  2015-10-27  \n",
       "2       0.0362   99.488            5/4    0.368  2008-02-05  \n",
       "3       0.0395  171.758            4/4    0.227        1998  \n",
       "4       0.0456  140.576            4/4    0.390  2017-01-06  "
      ]
     },
     "execution_count": 7,
     "metadata": {},
     "output_type": "execute_result"
    }
   ],
   "source": [
    "#Drop columns that are not needed in the data set\n",
    "SpotifyFeatures_df = SpotifyFeatures_df.dropna(subset=zero_not_accepted)\n",
    "SpotifyFeatures_df.head() "
   ]
  },
  {
   "cell_type": "code",
   "execution_count": 8,
   "metadata": {},
   "outputs": [
    {
     "name": "stdout",
     "output_type": "stream",
     "text": [
      "176774\n"
     ]
    }
   ],
   "source": [
    "print(len(SpotifyFeatures_df))"
   ]
  },
  {
   "cell_type": "markdown",
   "metadata": {},
   "source": [
    "## Need to enter selection criteria for Genre, Key, and mode"
   ]
  },
  {
   "cell_type": "code",
   "execution_count": 9,
   "metadata": {},
   "outputs": [],
   "source": [
    "SpotifyFeatures_df_filtered = SpotifyFeatures_df.loc[(SpotifyFeatures_df['genre'] == 'Pop')]\n",
    "                                                     # & (SpotifyFeatures_df['key'] == 'C#') \n",
    "                                                     # & (SpotifyFeatures_df['mode'] == 'Minor')]"
   ]
  },
  {
   "cell_type": "code",
   "execution_count": 10,
   "metadata": {},
   "outputs": [
    {
     "name": "stdout",
     "output_type": "stream",
     "text": [
      "2417\n"
     ]
    },
    {
     "data": {
      "text/html": [
       "<div>\n",
       "<style scoped>\n",
       "    .dataframe tbody tr th:only-of-type {\n",
       "        vertical-align: middle;\n",
       "    }\n",
       "\n",
       "    .dataframe tbody tr th {\n",
       "        vertical-align: top;\n",
       "    }\n",
       "\n",
       "    .dataframe thead th {\n",
       "        text-align: right;\n",
       "    }\n",
       "</style>\n",
       "<table border=\"1\" class=\"dataframe\">\n",
       "  <thead>\n",
       "    <tr style=\"text-align: right;\">\n",
       "      <th></th>\n",
       "      <th>genre</th>\n",
       "      <th>artist</th>\n",
       "      <th>track</th>\n",
       "      <th>track_id</th>\n",
       "      <th>popularity</th>\n",
       "      <th>acousticness</th>\n",
       "      <th>danceability</th>\n",
       "      <th>duration_ms</th>\n",
       "      <th>energy</th>\n",
       "      <th>instrumentalness</th>\n",
       "      <th>key</th>\n",
       "      <th>liveness</th>\n",
       "      <th>loudness</th>\n",
       "      <th>mode</th>\n",
       "      <th>speechiness</th>\n",
       "      <th>tempo</th>\n",
       "      <th>time_signature</th>\n",
       "      <th>valence</th>\n",
       "      <th>date</th>\n",
       "    </tr>\n",
       "  </thead>\n",
       "  <tbody>\n",
       "    <tr>\n",
       "      <th>88842</th>\n",
       "      <td>Pop</td>\n",
       "      <td>Khalid</td>\n",
       "      <td>Talk</td>\n",
       "      <td>0rTV5WefWd1J3OwIheTzxM</td>\n",
       "      <td>94</td>\n",
       "      <td>0.0501</td>\n",
       "      <td>0.900</td>\n",
       "      <td>197487</td>\n",
       "      <td>0.400</td>\n",
       "      <td>0.000000</td>\n",
       "      <td>C</td>\n",
       "      <td>0.0876</td>\n",
       "      <td>-8.443</td>\n",
       "      <td>Major</td>\n",
       "      <td>0.1240</td>\n",
       "      <td>136.001</td>\n",
       "      <td>4/4</td>\n",
       "      <td>0.338</td>\n",
       "      <td>2018-09-07</td>\n",
       "    </tr>\n",
       "    <tr>\n",
       "      <th>88843</th>\n",
       "      <td>Pop</td>\n",
       "      <td>Sam Smith</td>\n",
       "      <td>Dancing With A Stranger (with Normani)</td>\n",
       "      <td>6Qs4SXO9dwPj5GKvVOv8Ki</td>\n",
       "      <td>97</td>\n",
       "      <td>0.4500</td>\n",
       "      <td>0.741</td>\n",
       "      <td>171030</td>\n",
       "      <td>0.520</td>\n",
       "      <td>0.000002</td>\n",
       "      <td>G#</td>\n",
       "      <td>0.2220</td>\n",
       "      <td>-7.513</td>\n",
       "      <td>Major</td>\n",
       "      <td>0.0656</td>\n",
       "      <td>102.998</td>\n",
       "      <td>4/4</td>\n",
       "      <td>0.347</td>\n",
       "      <td>2006-01-31</td>\n",
       "    </tr>\n",
       "    <tr>\n",
       "      <th>88844</th>\n",
       "      <td>Pop</td>\n",
       "      <td>Marshmello</td>\n",
       "      <td>Happier</td>\n",
       "      <td>2dpaYNEQHiRxtZbfNsse99</td>\n",
       "      <td>97</td>\n",
       "      <td>0.1910</td>\n",
       "      <td>0.687</td>\n",
       "      <td>214290</td>\n",
       "      <td>0.792</td>\n",
       "      <td>0.000000</td>\n",
       "      <td>F</td>\n",
       "      <td>0.1670</td>\n",
       "      <td>-2.749</td>\n",
       "      <td>Major</td>\n",
       "      <td>0.0452</td>\n",
       "      <td>100.015</td>\n",
       "      <td>4/4</td>\n",
       "      <td>0.671</td>\n",
       "      <td>2017-10-27</td>\n",
       "    </tr>\n",
       "    <tr>\n",
       "      <th>88845</th>\n",
       "      <td>Pop</td>\n",
       "      <td>Khalid</td>\n",
       "      <td>Better</td>\n",
       "      <td>6zeeWid2sgw4lap2jV61PZ</td>\n",
       "      <td>88</td>\n",
       "      <td>0.0765</td>\n",
       "      <td>0.596</td>\n",
       "      <td>229320</td>\n",
       "      <td>0.552</td>\n",
       "      <td>0.334000</td>\n",
       "      <td>C</td>\n",
       "      <td>0.1040</td>\n",
       "      <td>-10.278</td>\n",
       "      <td>Minor</td>\n",
       "      <td>0.0970</td>\n",
       "      <td>97.949</td>\n",
       "      <td>4/4</td>\n",
       "      <td>0.112</td>\n",
       "      <td>2016-10-28</td>\n",
       "    </tr>\n",
       "    <tr>\n",
       "      <th>88846</th>\n",
       "      <td>Pop</td>\n",
       "      <td>Dean Lewis</td>\n",
       "      <td>Be Alright</td>\n",
       "      <td>3EPXxR3ImUwfayaurPi3cm</td>\n",
       "      <td>92</td>\n",
       "      <td>0.6970</td>\n",
       "      <td>0.553</td>\n",
       "      <td>196373</td>\n",
       "      <td>0.586</td>\n",
       "      <td>0.000000</td>\n",
       "      <td>B</td>\n",
       "      <td>0.0813</td>\n",
       "      <td>-6.319</td>\n",
       "      <td>Major</td>\n",
       "      <td>0.0362</td>\n",
       "      <td>126.684</td>\n",
       "      <td>4/4</td>\n",
       "      <td>0.443</td>\n",
       "      <td>2016-03-11</td>\n",
       "    </tr>\n",
       "  </tbody>\n",
       "</table>\n",
       "</div>"
      ],
      "text/plain": [
       "      genre      artist                                   track  \\\n",
       "88842   Pop      Khalid                                    Talk   \n",
       "88843   Pop   Sam Smith  Dancing With A Stranger (with Normani)   \n",
       "88844   Pop  Marshmello                                 Happier   \n",
       "88845   Pop      Khalid                                  Better   \n",
       "88846   Pop  Dean Lewis                              Be Alright   \n",
       "\n",
       "                     track_id  popularity  acousticness  danceability  \\\n",
       "88842  0rTV5WefWd1J3OwIheTzxM          94        0.0501         0.900   \n",
       "88843  6Qs4SXO9dwPj5GKvVOv8Ki          97        0.4500         0.741   \n",
       "88844  2dpaYNEQHiRxtZbfNsse99          97        0.1910         0.687   \n",
       "88845  6zeeWid2sgw4lap2jV61PZ          88        0.0765         0.596   \n",
       "88846  3EPXxR3ImUwfayaurPi3cm          92        0.6970         0.553   \n",
       "\n",
       "       duration_ms  energy  instrumentalness key  liveness  loudness   mode  \\\n",
       "88842       197487   0.400          0.000000   C    0.0876    -8.443  Major   \n",
       "88843       171030   0.520          0.000002  G#    0.2220    -7.513  Major   \n",
       "88844       214290   0.792          0.000000   F    0.1670    -2.749  Major   \n",
       "88845       229320   0.552          0.334000   C    0.1040   -10.278  Minor   \n",
       "88846       196373   0.586          0.000000   B    0.0813    -6.319  Major   \n",
       "\n",
       "       speechiness    tempo time_signature  valence        date  \n",
       "88842       0.1240  136.001            4/4    0.338  2018-09-07  \n",
       "88843       0.0656  102.998            4/4    0.347  2006-01-31  \n",
       "88844       0.0452  100.015            4/4    0.671  2017-10-27  \n",
       "88845       0.0970   97.949            4/4    0.112  2016-10-28  \n",
       "88846       0.0362  126.684            4/4    0.443  2016-03-11  "
      ]
     },
     "execution_count": 10,
     "metadata": {},
     "output_type": "execute_result"
    }
   ],
   "source": [
    "print(len(SpotifyFeatures_df_filtered))\n",
    "SpotifyFeatures_df_filtered.head()"
   ]
  },
  {
   "cell_type": "markdown",
   "metadata": {},
   "source": [
    "# Use KNN to determine Popularity based off filtered data using\n",
    "# Danceabiltiy, energy, tempo"
   ]
  },
  {
   "cell_type": "code",
   "execution_count": 11,
   "metadata": {},
   "outputs": [],
   "source": [
    "#Drop columns that are not needed in the data set\n",
    "# X = SpotifyFeatures_df_filtered.loc[:, ['popularity','danceability','energy','tempo','key','mode']]\n",
    "X = SpotifyFeatures_df_filtered.loc[:, ['danceability','energy','tempo']]\n",
    "y = SpotifyFeatures_df_filtered.loc[:, ['popularity']]\n",
    "X_train, X_test, y_train, y_test = train_test_split(X, y, random_state=1, test_size=0.2)"
   ]
  },
  {
   "cell_type": "code",
   "execution_count": 12,
   "metadata": {},
   "outputs": [],
   "source": [
    "# Create a StandardScater model and fit it to the training data\n",
    "sc_X = StandardScaler()\n",
    "X_train = sc_X.fit_transform(X_train)\n",
    "X_test = sc_X.transform(X_test)"
   ]
  },
  {
   "cell_type": "code",
   "execution_count": 13,
   "metadata": {},
   "outputs": [
    {
     "data": {
      "text/plain": [
       "21"
      ]
     },
     "execution_count": 13,
     "metadata": {},
     "output_type": "execute_result"
    }
   ],
   "source": [
    "# Calculate the number of neighbors to test against, using the square root of the testing array rounded down to the nearest odd number\n",
    "n_count = np.floor(math.sqrt(len(X_test)))\n",
    "\n",
    "if (n_count % 2) == 0:\n",
    "    n_count = n_count - 1\n",
    "    \n",
    "n_count = int(n_count)\n",
    "n_count"
   ]
  },
  {
   "cell_type": "code",
   "execution_count": 14,
   "metadata": {},
   "outputs": [
    {
     "name": "stdout",
     "output_type": "stream",
     "text": [
      "k: 1, Train/Test Score: 0.998/0.045\n",
      "k: 3, Train/Test Score: 0.382/0.029\n",
      "k: 5, Train/Test Score: 0.291/0.035\n",
      "k: 7, Train/Test Score: 0.249/0.037\n",
      "k: 9, Train/Test Score: 0.229/0.043\n",
      "k: 11, Train/Test Score: 0.210/0.052\n",
      "k: 13, Train/Test Score: 0.191/0.045\n",
      "k: 15, Train/Test Score: 0.176/0.052\n",
      "k: 17, Train/Test Score: 0.177/0.054\n",
      "k: 19, Train/Test Score: 0.170/0.050\n"
     ]
    },
    {
     "data": {
      "image/png": "[encoded data removed]",
      "text/plain": [
       "<Figure size 432x288 with 1 Axes>"
      ]
     },
     "metadata": {
      "needs_background": "light"
     },
     "output_type": "display_data"
    }
   ],
   "source": [
    "# Loop through different k values to see which has the highest accuracy\n",
    "# Note: We only use odd numbers because we don't want any ties\n",
    "train_scores = []\n",
    "test_scores = []\n",
    "for k in range(1, n_count, 2):\n",
    "    knn = KNeighborsClassifier(n_neighbors=k)\n",
    "    knn.fit(X_train, y_train.values.ravel())\n",
    "    train_score = knn.score(X_train, y_train)\n",
    "    test_score = knn.score(X_test, y_test)\n",
    "    train_scores.append(train_score)\n",
    "    test_scores.append(test_score)\n",
    "    print(f\"k: {k}, Train/Test Score: {train_score:.3f}/{test_score:.3f}\")\n",
    "    \n",
    "    \n",
    "plt.plot(range(1, n_count, 2), train_scores, marker='o')\n",
    "plt.plot(range(1, n_count, 2), test_scores, marker=\"x\")\n",
    "plt.xlabel(\"k neighbors\")\n",
    "plt.ylabel(\"Testing accuracy Score\")\n",
    "plt.show()"
   ]
  },
  {
   "cell_type": "code",
   "execution_count": 15,
   "metadata": {},
   "outputs": [
    {
     "name": "stdout",
     "output_type": "stream",
     "text": [
      "k=21 Test Acc: 0.056\n"
     ]
    }
   ],
   "source": [
    "knn = KNeighborsClassifier(n_neighbors=n_count, metric='euclidean')\n",
    "knn.fit(X_train, y_train.values.ravel())\n",
    "print(f\"k={n_count} Test Acc: %.3f\" % knn.score(X_test, y_test))"
   ]
  },
  {
   "cell_type": "code",
   "execution_count": 16,
   "metadata": {},
   "outputs": [
    {
     "data": {
      "text/plain": [
       "array([64, 65, 65, 60, 65, 63, 69, 63, 58, 65, 63, 60, 64, 66, 64, 61, 60,\n",
       "       61, 62, 68, 63, 73, 60, 64, 70, 64, 66, 71, 64, 63, 69, 60, 59, 69,\n",
       "       59, 73, 63, 65, 63, 62, 75, 63, 61, 73, 63, 62, 70, 65, 64, 59, 70,\n",
       "       62, 61, 63, 72, 63, 62, 62, 66, 66, 66, 60, 69, 60, 62, 61, 58, 66,\n",
       "       64, 62, 64, 62, 73, 64, 66, 65, 61, 60, 61, 61, 59, 63, 67, 60, 64,\n",
       "       64, 63, 64, 70, 61, 64, 60, 66, 66, 63, 58, 65, 69, 64, 65, 60, 66,\n",
       "       66, 69, 68, 59, 58, 71, 63, 62, 62, 65, 58, 59, 63, 73, 60, 63, 69,\n",
       "       61, 65, 63, 63, 70, 64, 69, 62, 57, 63, 64, 68, 56, 66, 55, 64, 70,\n",
       "       69, 57, 60, 73, 60, 63, 65, 59, 60, 60, 66, 61, 70, 67, 66, 85, 61,\n",
       "       57, 71, 63, 64, 68, 61, 62, 70, 63, 60, 63, 61, 69, 60, 65, 69, 60,\n",
       "       73, 61, 59, 63, 66, 66, 69, 60, 65, 65, 60, 69, 66, 63, 65, 67, 66,\n",
       "       64, 62, 63, 66, 59, 61, 63, 66, 60, 64, 56, 64, 64, 63, 64, 68, 65,\n",
       "       63, 60, 62, 62, 73, 64, 62, 58, 64, 61, 64, 64, 66, 64, 66, 66, 63,\n",
       "       61, 65, 62, 65, 60, 64, 67, 64, 69, 58, 60, 61, 70, 61, 61, 68, 63,\n",
       "       64, 70, 62, 69, 61, 64, 64, 63, 60, 64, 65, 64, 65, 64, 73, 64, 66,\n",
       "       63, 61, 61, 59, 65, 62, 61, 65, 64, 69, 62, 67, 64, 67, 57, 65, 65,\n",
       "       62, 63, 63, 61, 59, 66, 66, 66, 59, 58, 65, 66, 64, 61, 65, 61, 65,\n",
       "       63, 58, 64, 62, 60, 72, 64, 64, 62, 66, 61, 61, 65, 65, 60, 63, 66,\n",
       "       61, 63, 59, 66, 66, 63, 70, 70, 66, 61, 60, 62, 65, 68, 62, 65, 69,\n",
       "       66, 60, 59, 68, 69, 64, 71, 68, 63, 63, 60, 61, 64, 65, 71, 69, 60,\n",
       "       60, 60, 62, 64, 66, 65, 62, 71, 60, 62, 64, 59, 63, 61, 63, 59, 60,\n",
       "       58, 61, 66, 67, 62, 60, 64, 64, 70, 70, 60, 65, 62, 64, 64, 68, 61,\n",
       "       63, 59, 63, 65, 65, 70, 65, 61, 62, 63, 65, 61, 61, 65, 64, 70, 61,\n",
       "       60, 65, 62, 66, 70, 62, 61, 64, 70, 66, 61, 61, 60, 68, 69, 58, 66,\n",
       "       63, 63, 59, 61, 64, 65, 64, 64, 73, 59, 60, 65, 66, 62, 59, 69, 59,\n",
       "       65, 59, 71, 67, 59, 73, 63, 64, 64, 63, 65, 66, 70, 62, 66, 63, 68,\n",
       "       68, 60, 64, 64, 71, 65, 64, 59, 62, 65, 64, 66, 66, 59, 68, 76, 63,\n",
       "       73, 61, 59, 59, 55, 63, 68, 64, 69, 64, 69, 64, 63, 65, 60, 66, 64,\n",
       "       62, 73, 69, 63, 61, 58, 65, 63], dtype=int64)"
      ]
     },
     "execution_count": 16,
     "metadata": {},
     "output_type": "execute_result"
    }
   ],
   "source": [
    "# Predict the test set Results\n",
    "y_pred = knn.predict(X_test)\n",
    "y_pred"
   ]
  },
  {
   "cell_type": "code",
   "execution_count": 17,
   "metadata": {},
   "outputs": [
    {
     "name": "stdout",
     "output_type": "stream",
     "text": [
      "Confusion Matrix\n",
      "------------------------------------\n",
      "[[0 0 0 ... 0 0 0]\n",
      " [0 0 0 ... 0 0 0]\n",
      " [0 0 0 ... 0 0 0]\n",
      " ...\n",
      " [0 0 0 ... 0 0 0]\n",
      " [0 0 0 ... 0 0 0]\n",
      " [0 0 0 ... 0 0 0]]\n",
      "------------------------------------\n",
      "f1 Score: 0.05578512396694215\n",
      "Accuracy Score: 0.05578512396694215\n"
     ]
    }
   ],
   "source": [
    "cm = confusion_matrix(y_test, y_pred)\n",
    "f1 = f1_score(y_test,y_pred, average='micro')\n",
    "Acc_Score = accuracy_score(y_test,y_pred)\n",
    "print('Confusion Matrix')\n",
    "print('------------------------------------')\n",
    "print (cm)\n",
    "print('------------------------------------')\n",
    "print(f\"f1 Score: {f1}\")\n",
    "print(f\"Accuracy Score: {Acc_Score}\")"
   ]
  },
  {
   "cell_type": "code",
   "execution_count": 18,
   "metadata": {},
   "outputs": [
    {
     "name": "stdout",
     "output_type": "stream",
     "text": [
      "Popularity of your song (0-100) is expected to be: [64]\n"
     ]
    }
   ],
   "source": [
    "new_song_data = [[0.01, .01, 60]]\n",
    "predicted_class = knn.predict(new_song_data)\n",
    "print(f\"Popularity of your song (0-100) is expected to be: {predicted_class}\")"
   ]
  },
  {
   "cell_type": "markdown",
   "metadata": {},
   "source": [
    "# Use KNN to determine Danceability based off filtered data using\n",
    "# energy, tempo"
   ]
  },
  {
   "cell_type": "code",
   "execution_count": 19,
   "metadata": {},
   "outputs": [],
   "source": [
    "#Drop columns that are not needed in the data set\n",
    "# X = SpotifyFeatures_df_filtered.loc[:, ['popularity','danceability','energy','tempo','key','mode']]\n",
    "X = SpotifyFeatures_df_filtered.loc[:, ['energy','tempo']]\n",
    "y = SpotifyFeatures_df_filtered.loc[:, ['danceability']]\n"
   ]
  },
  {
   "cell_type": "code",
   "execution_count": 20,
   "metadata": {},
   "outputs": [],
   "source": [
    "lab_enc = preprocessing.LabelEncoder()\n",
    "y_encoded = lab_enc.fit_transform(y.danceability)"
   ]
  },
  {
   "cell_type": "code",
   "execution_count": 21,
   "metadata": {},
   "outputs": [],
   "source": [
    "X_train, X_test, y_train, y_test = train_test_split(X, y_encoded, random_state=1, test_size=0.2)"
   ]
  },
  {
   "cell_type": "code",
   "execution_count": 22,
   "metadata": {},
   "outputs": [
    {
     "data": {
      "text/plain": [
       "array([486, 206, 353, ..., 130, 349, 135], dtype=int64)"
      ]
     },
     "execution_count": 22,
     "metadata": {},
     "output_type": "execute_result"
    }
   ],
   "source": [
    "y_train"
   ]
  },
  {
   "cell_type": "code",
   "execution_count": 23,
   "metadata": {},
   "outputs": [],
   "source": [
    "# Create a StandardScater model and fit it to the training data\n",
    "sc_X = StandardScaler()\n",
    "X_train = sc_X.fit_transform(X_train)\n",
    "X_test = sc_X.transform(X_test)"
   ]
  },
  {
   "cell_type": "code",
   "execution_count": 24,
   "metadata": {},
   "outputs": [
    {
     "data": {
      "text/plain": [
       "21"
      ]
     },
     "execution_count": 24,
     "metadata": {},
     "output_type": "execute_result"
    }
   ],
   "source": [
    "# Calculate the number of neighbors to test against, using the square root of the testing array rounded down to the nearest odd number\n",
    "n_count = np.floor(math.sqrt(len(X_test)))\n",
    "\n",
    "if (n_count % 2) == 0:\n",
    "    n_count = n_count - 1\n",
    "    \n",
    "n_count = int(n_count)\n",
    "n_count"
   ]
  },
  {
   "cell_type": "code",
   "execution_count": 25,
   "metadata": {},
   "outputs": [
    {
     "name": "stdout",
     "output_type": "stream",
     "text": [
      "k: 1, Train/Test Score: 1.000/0.006\n",
      "k: 3, Train/Test Score: 0.341/0.004\n",
      "k: 5, Train/Test Score: 0.202/0.006\n",
      "k: 7, Train/Test Score: 0.159/0.004\n",
      "k: 9, Train/Test Score: 0.132/0.004\n",
      "k: 11, Train/Test Score: 0.109/0.006\n",
      "k: 13, Train/Test Score: 0.099/0.006\n",
      "k: 15, Train/Test Score: 0.093/0.006\n",
      "k: 17, Train/Test Score: 0.083/0.006\n",
      "k: 19, Train/Test Score: 0.078/0.006\n"
     ]
    },
    {
     "data": {
      "image/png": "[encoded data removed]",
      "text/plain": [
       "<Figure size 432x288 with 1 Axes>"
      ]
     },
     "metadata": {
      "needs_background": "light"
     },
     "output_type": "display_data"
    }
   ],
   "source": [
    "# Loop through different k values to see which has the highest accuracy\n",
    "# Note: We only use odd numbers because we don't want any ties\n",
    "train_scores = []\n",
    "test_scores = []\n",
    "for k in range(1, n_count, 2):\n",
    "    knn = KNeighborsClassifier(n_neighbors=k)\n",
    "    knn.fit(X_train, y_train)\n",
    "    train_score = knn.score(X_train, y_train)\n",
    "    test_score = knn.score(X_test, y_test)\n",
    "    train_scores.append(train_score)\n",
    "    test_scores.append(test_score)\n",
    "    print(f\"k: {k}, Train/Test Score: {train_score:.3f}/{test_score:.3f}\")\n",
    "    \n",
    "    \n",
    "plt.plot(range(1, n_count, 2), train_scores, marker='o')\n",
    "plt.plot(range(1, n_count, 2), test_scores, marker=\"x\")\n",
    "plt.xlabel(\"k neighbors\")\n",
    "plt.ylabel(\"Testing accuracy Score\")\n",
    "plt.show()"
   ]
  },
  {
   "cell_type": "code",
   "execution_count": 26,
   "metadata": {},
   "outputs": [
    {
     "name": "stdout",
     "output_type": "stream",
     "text": [
      "k=21 Test Acc: 0.004\n"
     ]
    }
   ],
   "source": [
    "knn = KNeighborsClassifier(n_neighbors=n_count, metric='euclidean')\n",
    "knn.fit(X_train, y_train)\n",
    "print(f\"k={n_count} Test Acc: %.3f\" % knn.score(X_test, y_test))"
   ]
  },
  {
   "cell_type": "code",
   "execution_count": 27,
   "metadata": {},
   "outputs": [
    {
     "data": {
      "text/plain": [
       "array([509, 329,  30, 407,  30, 354,  59, 102, 505, 516, 108, 176, 447,\n",
       "       368,  23,  30,  83,  94, 399, 471, 220, 149, 281, 187,   8,  91,\n",
       "       445,  42,  23, 487, 210, 211, 355, 314,  28, 447, 509, 447, 294,\n",
       "       292, 234, 193, 373, 203, 173, 343, 267, 152, 210, 471, 135,  28,\n",
       "       104, 176,  26, 467, 447,  95, 226,  15, 545,  85, 325, 355, 320,\n",
       "       115,  12,   3,  98,  43, 110, 102, 211,  40, 348, 176,  95, 141,\n",
       "       210,  15, 127, 185,  85, 176,   8,  23,  91, 198, 292,  15,  26,\n",
       "       176,  69,  64,  12, 176, 148, 121, 296, 197, 330, 226, 447,  57,\n",
       "       102, 152, 152, 136, 237,  66, 383, 155, 176,  45,   9, 115, 149,\n",
       "       365, 383, 471, 320, 325, 267, 324, 143, 173, 399, 472, 229, 448,\n",
       "        42, 419, 171, 127, 373, 187, 519,  69,   0,  12,  69, 267, 502,\n",
       "       205,  33,  30, 136, 496,  69, 116, 445, 513, 110,  29, 194, 204,\n",
       "        23, 364, 148, 136,  34, 373, 330, 316,  44, 354, 250, 368,  91,\n",
       "       116,  15, 324, 409, 330, 229, 450,  32,  95,  11, 363, 233, 296,\n",
       "       355,  86, 448,  47, 175,  23, 487, 199,  13,  42, 370,  14,  64,\n",
       "       141,  38, 155,  38, 136, 102, 509, 368, 182,  91,   9, 365, 378,\n",
       "        15, 203, 204, 296, 210, 324, 354,  47, 348, 492, 403,  73, 220,\n",
       "        85, 509, 324, 348, 355, 492, 324, 516, 314, 407, 193, 391,  66,\n",
       "        23,  30, 471, 176,  86,  74,  59, 116, 244,  95, 182, 373, 399,\n",
       "        86, 197, 447, 363,  15,  85, 365,  85,  13, 516, 302,  28, 148,\n",
       "       176, 296, 211,  40,  21, 365, 365, 306, 354, 306, 148, 230,  21,\n",
       "        89,   9, 203,  39,   0,  71, 330, 176, 141, 306,  94, 471, 273,\n",
       "       244,  44,  81, 348, 141,  86,  30, 306,  26, 136, 296, 176, 115,\n",
       "       100,  30,  81,   9,  59,  95,   0, 409, 516, 244, 309, 138, 292,\n",
       "       483, 111, 138, 296, 118, 141,   9, 513,  55, 210, 203,  94, 145,\n",
       "       141, 448,  81,  15,  38, 102,   9,  86, 221,  30, 259,  30,  69,\n",
       "       203,  12,  57,  65,  95, 492,  53, 383,  21, 316, 220,  43, 205,\n",
       "       343,  12,  89, 296,  30,  40, 403,  31, 136, 482, 399, 479,  57,\n",
       "       399, 484, 450, 461,   9,  14, 302, 115,   8, 149,  11, 355,  12,\n",
       "       226, 516, 148, 193, 141, 301, 354,  86, 211,  53, 148, 509, 368,\n",
       "       373, 127, 199,  57,  53,  94, 487, 203,  26, 233, 355, 296,  15,\n",
       "        99,   9, 325, 201, 320, 177, 211,  33, 270,  40, 185,  86, 354,\n",
       "       211,   0, 193, 108, 445, 324,  94, 292,  76, 197, 343, 211, 203,\n",
       "         9, 330,  15, 355, 373,  43, 399, 407, 292,  26,  77, 259, 171,\n",
       "       403, 324,  23, 399,  15, 316,  91, 355, 377, 471, 378, 355,  73,\n",
       "       152, 175, 445, 139,  57,   3, 355, 152, 370, 306,  81, 252, 155,\n",
       "       104, 461,  23, 306,  21,  53, 193,  41,  43, 378,  95, 330, 399,\n",
       "       141,  46,  59], dtype=int64)"
      ]
     },
     "execution_count": 27,
     "metadata": {},
     "output_type": "execute_result"
    }
   ],
   "source": [
    "# Predict the test set Results\n",
    "y_pred = knn.predict(X_test)\n",
    "y_pred"
   ]
  },
  {
   "cell_type": "code",
   "execution_count": 28,
   "metadata": {},
   "outputs": [
    {
     "name": "stdout",
     "output_type": "stream",
     "text": [
      "Confusion Matrix\n",
      "------------------------------------\n",
      "[[0 0 0 ... 0 0 0]\n",
      " [0 0 0 ... 0 0 0]\n",
      " [0 0 0 ... 0 0 0]\n",
      " ...\n",
      " [0 0 0 ... 0 0 0]\n",
      " [0 0 0 ... 0 0 0]\n",
      " [0 0 0 ... 0 0 0]]\n",
      "------------------------------------\n",
      "f1 Score: 0.004132231404958678\n",
      "Accuracy Score: 0.004132231404958678\n"
     ]
    }
   ],
   "source": [
    "cm = confusion_matrix(y_test, y_pred)\n",
    "f1 = f1_score(y_test,y_pred, average='micro')\n",
    "Acc_Score = accuracy_score(y_test,y_pred)\n",
    "print('Confusion Matrix')\n",
    "print('------------------------------------')\n",
    "print (cm)\n",
    "print('------------------------------------')\n",
    "print(f\"f1 Score: {f1}\")\n",
    "print(f\"Accuracy Score: {Acc_Score}\")"
   ]
  },
  {
   "cell_type": "code",
   "execution_count": 29,
   "metadata": {},
   "outputs": [
    {
     "name": "stdout",
     "output_type": "stream",
     "text": [
      "Danceability of your song (.001 - .999) is expected to be: [5]\n"
     ]
    }
   ],
   "source": [
    "new_song_data = [[0.4, 136]]\n",
    "predicted_class = knn.predict(new_song_data)\n",
    "print(f\"Danceability of your song (.001 - .999) is expected to be: {predicted_class}\")"
   ]
  },
  {
   "cell_type": "code",
   "execution_count": null,
   "metadata": {},
   "outputs": [],
   "source": []
  }
 ],
 "metadata": {
  "kernelspec": {
   "display_name": "Python 3.8.1 64-bit ('BootCamp1': conda)",
   "language": "python",
   "name": "python38164bitbootcamp1condaaa30332a9e094a7f8241b98b0741e6a2"
  },
  "language_info": {
   "codemirror_mode": {
    "name": "ipython",
    "version": 3
   },
   "file_extension": ".py",
   "mimetype": "text/x-python",
   "name": "python",
   "nbconvert_exporter": "python",
   "pygments_lexer": "ipython3",
   "version": "3.8.1"
  }
 },
 "nbformat": 4,
 "nbformat_minor": 4
}
